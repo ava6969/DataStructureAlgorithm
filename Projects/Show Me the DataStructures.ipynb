{
 "cells": [
  {
   "cell_type": "markdown",
   "metadata": {},
   "source": [
    "# LRU Cache Problem"
   ]
  },
  {
   "cell_type": "code",
   "execution_count": null,
   "metadata": {},
   "outputs": [],
   "source": [
    "class LRUCache:\n",
    "    def __init__(self, size_limit)\n",
    "        self.limit = size_limit\n",
    "        self.capacity = 0\n",
    "        self.storage = {}\n",
    "    \n",
    "    def put(self, key, value):\n",
    "        if self.capacity == self.limit:\n",
    "            \n",
    "        else:\n",
    "            self.storage[key] = (value, 0)\n",
    "            self.capacity += 1\n",
    "    \n",
    "    def get(self, key):\n",
    "        \n",
    "        if key in self.storage:\n",
    "            value, count = self.storage[key]\n",
    "            self.storage[key] = (value, count+1)\n",
    "            return value\n",
    "        else:\n",
    "            return -1\n",
    "            \n",
    "        "
   ]
  },
  {
   "cell_type": "code",
   "execution_count": null,
   "metadata": {},
   "outputs": [],
   "source": []
  },
  {
   "cell_type": "markdown",
   "metadata": {},
   "source": [
    "# File Recursion"
   ]
  },
  {
   "cell_type": "code",
   "execution_count": 23,
   "metadata": {},
   "outputs": [],
   "source": [
    "import os"
   ]
  },
  {
   "cell_type": "code",
   "execution_count": 24,
   "metadata": {},
   "outputs": [
    {
     "data": {
      "text/plain": [
       "True"
      ]
     },
     "execution_count": 24,
     "metadata": {},
     "output_type": "execute_result"
    }
   ],
   "source": [
    "os.path.isfile(os.path.join(\"testdir\",\"t1.c\"))"
   ]
  },
  {
   "cell_type": "code",
   "execution_count": 25,
   "metadata": {},
   "outputs": [],
   "source": [
    "def find_files(suffix, path):\n",
    "    \"\"\"\n",
    "    Find all files beneath path with file name suffix.\n",
    "\n",
    "    Note that a path may contain further subdirectories\n",
    "    and those subdirectories may also contain further subdirectories.\n",
    "\n",
    "    There are no limit to the depth of the subdirectories can be.\n",
    "\n",
    "    Args:\n",
    "      suffix(str): suffix if the file name to be found\n",
    "      path(str): path of the file system\n",
    "\n",
    "    Returns:\n",
    "       a list of paths\n",
    "    \"\"\"\n",
    "    \n",
    "    def recursive_search(suffix, path):\n",
    "        files = []\n",
    "\n",
    "        if os.path.isfile(path):\n",
    "            if path.endswith(suffix):\n",
    "                return path\n",
    "            else:\n",
    "                return\n",
    "        else:\n",
    "            for dir_name in os.listdir(path):\n",
    "                if os.path.isfile(dir_name):\n",
    "                    if dir_name.endswith(suffix):\n",
    "                        files.append(dir_name)\n",
    "                else:\n",
    "                    res = recursive_search(suffix, os.path.join(path, dir_name))\n",
    "                    if res:\n",
    "                        files.append(res)\n",
    "            return files\n",
    "    return recursive_search(suffix, path)\n",
    "    "
   ]
  },
  {
   "cell_type": "code",
   "execution_count": 26,
   "metadata": {},
   "outputs": [
    {
     "data": {
      "text/plain": [
       "[['testdir\\\\subdir1\\\\a.c'],\n",
       " [['testdir\\\\subdir3\\\\subsubdir1\\\\b.c']],\n",
       " ['testdir\\\\subdir5\\\\a.c'],\n",
       " 'testdir\\\\t1.c']"
      ]
     },
     "execution_count": 26,
     "metadata": {},
     "output_type": "execute_result"
    }
   ],
   "source": [
    "find_files(\".c\",\"testdir\")"
   ]
  },
  {
   "cell_type": "markdown",
   "metadata": {},
   "source": [
    "# Hoffman Encoding"
   ]
  },
  {
   "cell_type": "code",
   "execution_count": 82,
   "metadata": {},
   "outputs": [],
   "source": [
    "class Node:\n",
    "    def __init__(self, value, freq):\n",
    "        self.value = value\n",
    "        self.freq = freq\n",
    "        self.lChild = None\n",
    "        self.rChild = None\n",
    "    def __lt__(self, other):\n",
    "        return self.get_freq() < other.get_freq()\n",
    "    def get_freq(self):\n",
    "        return self.freq\n",
    "    def __repr__(self):\n",
    "        return (f\"Node: value - {self.value}, freq - {self.freq}, left - ({self.lChild}), right - ({self.rChild})\")"
   ]
  },
  {
   "cell_type": "code",
   "execution_count": 83,
   "metadata": {},
   "outputs": [],
   "source": [
    "class HoffManTree:\n",
    "    def __init__(self, node=None):\n",
    "        self.root = node\n",
    "    def get_freq(self):\n",
    "        return self.root.freq\n",
    "        \n",
    "    def __lt__(self, other):\n",
    "        return self.get_freq() < other.get_freq()\n",
    "    def __repr__(self):\n",
    "        return (f\"Tree: value - {self.root.value}, freq - {self.root.freq}, left - ({self.root.lChild}), right - ({self.root.rChild})\")"
   ]
  },
  {
   "cell_type": "code",
   "execution_count": 98,
   "metadata": {},
   "outputs": [],
   "source": [
    "import sys\n",
    "from collections import Counter\n",
    "from heapq import *\n",
    "\n",
    "def heapify(freq_table):\n",
    "    h = []\n",
    "    for k, v in freq_table:\n",
    "        heappush(h, Node(k, v))\n",
    "    return h\n",
    "\n",
    "def huffman_encoding(data):\n",
    "    freq_table = Counter(data.replace(\" \", \"\"))\n",
    "    h = heapify(freq_table.items())\n",
    "    for _ in range(10):\n",
    "        node1 = heappop(h)\n",
    "        node2 = heappop(h)\n",
    "        new_node = Node(None, node1.get_freq()+node2.get_freq())\n",
    "        new_node.lChild = node1\n",
    "        new_node.rChild = node2\n",
    "        heappush(h, HoffManTree(new_node))\n",
    "\n",
    "    return h\n",
    "    \n",
    "\n",
    "def huffman_decoding(data,tree):\n",
    "    pass\n"
   ]
  },
  {
   "cell_type": "code",
   "execution_count": 99,
   "metadata": {},
   "outputs": [
    {
     "data": {
      "text/plain": [
       "[Tree: value - None, freq - 16, left - (Tree: value - None, freq - 8, left - (Tree: value - None, freq - 4, left - (Node: value - e, freq - 2, left - (None), right - (None)), right - (Node: value - d, freq - 2, left - (None), right - (None))), right - (Tree: value - None, freq - 4, left - (Tree: value - None, freq - 2, left - (Node: value - s, freq - 1, left - (None), right - (None)), right - (Node: value - t, freq - 1, left - (None), right - (None))), right - (Node: value - i, freq - 2, left - (None), right - (None)))), right - (Tree: value - None, freq - 8, left - (Tree: value - None, freq - 4, left - (Tree: value - None, freq - 2, left - (Node: value - T, freq - 1, left - (None), right - (None)), right - (Node: value - b, freq - 1, left - (None), right - (None))), right - (Node: value - r, freq - 2, left - (None), right - (None))), right - (Tree: value - None, freq - 4, left - (Tree: value - None, freq - 2, left - (Node: value - w, freq - 1, left - (None), right - (None)), right - (Node: value - o, freq - 1, left - (None), right - (None))), right - (Node: value - h, freq - 2, left - (None), right - (None))))]"
      ]
     },
     "execution_count": 99,
     "metadata": {},
     "output_type": "execute_result"
    }
   ],
   "source": [
    "codes = {}\n",
    "\n",
    "a_great_sentence = \"The bird is the word\"\n",
    "h = huffman_encoding(a_great_sentence)\n",
    "h"
   ]
  },
  {
   "cell_type": "code",
   "execution_count": null,
   "metadata": {},
   "outputs": [],
   "source": [
    "\n",
    "\n",
    "print (\"The size of the data is: {}\\n\".format(sys.getsizeof(a_great_sentence)))\n",
    "print (\"The content of the data is: {}\\n\".format(a_great_sentence))\n",
    "\n",
    "encoded_data, tree = huffman_encoding(a_great_sentence)\n",
    "\n",
    "print (\"The size of the encoded data is: {}\\n\".format(sys.getsizeof(int(encoded_data, base=2))))\n",
    "print (\"The content of the encoded data is: {}\\n\".format(encoded_data))\n",
    "\n",
    "decoded_data = huffman_decoding(encoded_data, tree)\n",
    "\n",
    "print (\"The size of the decoded data is: {}\\n\".format(sys.getsizeof(decoded_data)))\n",
    "print (\"The content of the encoded data is: {}\\n\".format(decoded_data))"
   ]
  },
  {
   "cell_type": "markdown",
   "metadata": {},
   "source": [
    "# Active Directory"
   ]
  },
  {
   "cell_type": "code",
   "execution_count": 100,
   "metadata": {},
   "outputs": [],
   "source": [
    "class Group(object):\n",
    "    def __init__(self, _name):\n",
    "        self.name = _name\n",
    "        self.groups = []\n",
    "        self.users = []\n",
    "\n",
    "    def add_group(self, group):\n",
    "        self.groups.append(group)\n",
    "\n",
    "    def add_user(self, user):\n",
    "        self.users.append(user)\n",
    "\n",
    "    def get_groups(self):\n",
    "        return self.groups\n",
    "\n",
    "    def get_users(self):\n",
    "        return self.users\n",
    "\n",
    "    def get_name(self):\n",
    "        return self.name\n",
    "\n",
    "\n",
    "parent = Group(\"parent\")\n",
    "child = Group(\"child\")\n",
    "sub_child = Group(\"subchild\")\n",
    "\n",
    "sub_child_user = \"sub_child_user\"\n",
    "sub_child.add_user(sub_child_user)\n",
    "\n",
    "child.add_group(sub_child)\n",
    "parent.add_group(child)"
   ]
  },
  {
   "cell_type": "code",
   "execution_count": null,
   "metadata": {},
   "outputs": [],
   "source": [
    "def is_user_in_group(user, group):\n",
    "    \"\"\"\n",
    "    Return True if user is in the group, False otherwise.\n",
    "\n",
    "    Args:\n",
    "      user(str): user name/id\n",
    "      group(class:Group): group to check user membership against\n",
    "    \"\"\"\n",
    "    return None"
   ]
  }
 ],
 "metadata": {
  "kernelspec": {
   "display_name": "Python 3",
   "language": "python",
   "name": "python3"
  },
  "language_info": {
   "codemirror_mode": {
    "name": "ipython",
    "version": 3
   },
   "file_extension": ".py",
   "mimetype": "text/x-python",
   "name": "python",
   "nbconvert_exporter": "python",
   "pygments_lexer": "ipython3",
   "version": "3.7.6"
  }
 },
 "nbformat": 4,
 "nbformat_minor": 4
}
