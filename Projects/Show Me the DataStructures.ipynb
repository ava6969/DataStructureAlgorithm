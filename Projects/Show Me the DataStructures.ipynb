{
 "cells": [
  {
   "cell_type": "markdown",
   "metadata": {},
   "source": [
    "# LRU Cache Problem"
   ]
  },
  {
   "cell_type": "code",
   "execution_count": null,
   "metadata": {},
   "outputs": [],
   "source": [
    "class LRUCache:\n",
    "    def __init__(self, size_limit)\n",
    "        self.limit = size_limit\n",
    "        self.capacity = 0\n",
    "        self.storage = {}\n",
    "    \n",
    "    def put(self, key, value):\n",
    "        if self.capacity == self.limit:\n",
    "            \n",
    "        else:\n",
    "            self.storage[key] = (value, 0)\n",
    "            self.capacity += 1\n",
    "    \n",
    "    def get(self, key):\n",
    "        \n",
    "        if key in self.storage:\n",
    "            value, count = self.storage[key]\n",
    "            self.storage[key] = (value, count+1)\n",
    "            return value\n",
    "        else:\n",
    "            return -1\n",
    "            \n",
    "        "
   ]
  },
  {
   "cell_type": "code",
   "execution_count": null,
   "metadata": {},
   "outputs": [],
   "source": []
  },
  {
   "cell_type": "markdown",
   "metadata": {},
   "source": [
    "# File Recursion"
   ]
  },
  {
   "cell_type": "code",
   "execution_count": 23,
   "metadata": {},
   "outputs": [],
   "source": [
    "import os"
   ]
  },
  {
   "cell_type": "code",
   "execution_count": 24,
   "metadata": {},
   "outputs": [
    {
     "data": {
      "text/plain": [
       "True"
      ]
     },
     "execution_count": 24,
     "metadata": {},
     "output_type": "execute_result"
    }
   ],
   "source": [
    "os.path.isfile(os.path.join(\"testdir\",\"t1.c\"))"
   ]
  },
  {
   "cell_type": "code",
   "execution_count": 25,
   "metadata": {},
   "outputs": [],
   "source": [
    "def find_files(suffix, path):\n",
    "    \"\"\"\n",
    "    Find all files beneath path with file name suffix.\n",
    "\n",
    "    Note that a path may contain further subdirectories\n",
    "    and those subdirectories may also contain further subdirectories.\n",
    "\n",
    "    There are no limit to the depth of the subdirectories can be.\n",
    "\n",
    "    Args:\n",
    "      suffix(str): suffix if the file name to be found\n",
    "      path(str): path of the file system\n",
    "\n",
    "    Returns:\n",
    "       a list of paths\n",
    "    \"\"\"\n",
    "    \n",
    "    def recursive_search(suffix, path):\n",
    "        files = []\n",
    "\n",
    "        if os.path.isfile(path):\n",
    "            if path.endswith(suffix):\n",
    "                return path\n",
    "            else:\n",
    "                return\n",
    "        else:\n",
    "            for dir_name in os.listdir(path):\n",
    "                if os.path.isfile(dir_name):\n",
    "                    if dir_name.endswith(suffix):\n",
    "                        files.append(dir_name)\n",
    "                else:\n",
    "                    res = recursive_search(suffix, os.path.join(path, dir_name))\n",
    "                    if res:\n",
    "                        files.append(res)\n",
    "            return files\n",
    "    return recursive_search(suffix, path)\n",
    "    "
   ]
  },
  {
   "cell_type": "code",
   "execution_count": 26,
   "metadata": {},
   "outputs": [
    {
     "data": {
      "text/plain": [
       "[['testdir\\\\subdir1\\\\a.c'],\n",
       " [['testdir\\\\subdir3\\\\subsubdir1\\\\b.c']],\n",
       " ['testdir\\\\subdir5\\\\a.c'],\n",
       " 'testdir\\\\t1.c']"
      ]
     },
     "execution_count": 26,
     "metadata": {},
     "output_type": "execute_result"
    }
   ],
   "source": [
    "find_files(\".c\",\"testdir\")"
   ]
  },
  {
   "cell_type": "markdown",
   "metadata": {},
   "source": [
    "# Hoffman Encoding"
   ]
  },
  {
   "cell_type": "code",
   "execution_count": 82,
   "metadata": {},
   "outputs": [],
   "source": [
    "class Node:\n",
    "    def __init__(self, value, freq):\n",
    "        self.value = value\n",
    "        self.freq = freq\n",
    "        self.lChild = None\n",
    "        self.rChild = None\n",
    "    def __lt__(self, other):\n",
    "        return self.get_freq() < other.get_freq()\n",
    "    def get_freq(self):\n",
    "        return self.freq\n",
    "    def __repr__(self):\n",
    "        return (f\"Node: value - {self.value}, freq - {self.freq}, left - ({self.lChild}), right - ({self.rChild})\")"
   ]
  },
  {
   "cell_type": "code",
   "execution_count": 83,
   "metadata": {},
   "outputs": [],
   "source": [
    "class HoffManTree:\n",
    "    def __init__(self, node=None):\n",
    "        self.root = node\n",
    "    def get_freq(self):\n",
    "        return self.root.freq\n",
    "        \n",
    "    def __lt__(self, other):\n",
    "        return self.get_freq() < other.get_freq()\n",
    "    def __repr__(self):\n",
    "        return (f\"Tree: value - {self.root.value}, freq - {self.root.freq}, left - ({self.root.lChild}), right - ({self.root.rChild})\")"
   ]
  },
  {
   "cell_type": "code",
   "execution_count": 98,
   "metadata": {},
   "outputs": [],
   "source": [
    "import sys\n",
    "from collections import Counter\n",
    "from heapq import *\n",
    "\n",
    "def heapify(freq_table):\n",
    "    h = []\n",
    "    for k, v in freq_table:\n",
    "        heappush(h, Node(k, v))\n",
    "    return h\n",
    "\n",
    "def huffman_encoding(data):\n",
    "    freq_table = Counter(data.replace(\" \", \"\"))\n",
    "    h = heapify(freq_table.items())\n",
    "    for _ in range(10):\n",
    "        node1 = heappop(h)\n",
    "        node2 = heappop(h)\n",
    "        new_node = Node(None, node1.get_freq()+node2.get_freq())\n",
    "        new_node.lChild = node1\n",
    "        new_node.rChild = node2\n",
    "        heappush(h, HoffManTree(new_node))\n",
    "\n",
    "    return h\n",
    "    \n",
    "\n",
    "def huffman_decoding(data,tree):\n",
    "    pass\n"
   ]
  },
  {
   "cell_type": "code",
   "execution_count": 99,
   "metadata": {},
   "outputs": [
    {
     "data": {
      "text/plain": [
       "[Tree: value - None, freq - 16, left - (Tree: value - None, freq - 8, left - (Tree: value - None, freq - 4, left - (Node: value - e, freq - 2, left - (None), right - (None)), right - (Node: value - d, freq - 2, left - (None), right - (None))), right - (Tree: value - None, freq - 4, left - (Tree: value - None, freq - 2, left - (Node: value - s, freq - 1, left - (None), right - (None)), right - (Node: value - t, freq - 1, left - (None), right - (None))), right - (Node: value - i, freq - 2, left - (None), right - (None)))), right - (Tree: value - None, freq - 8, left - (Tree: value - None, freq - 4, left - (Tree: value - None, freq - 2, left - (Node: value - T, freq - 1, left - (None), right - (None)), right - (Node: value - b, freq - 1, left - (None), right - (None))), right - (Node: value - r, freq - 2, left - (None), right - (None))), right - (Tree: value - None, freq - 4, left - (Tree: value - None, freq - 2, left - (Node: value - w, freq - 1, left - (None), right - (None)), right - (Node: value - o, freq - 1, left - (None), right - (None))), right - (Node: value - h, freq - 2, left - (None), right - (None))))]"
      ]
     },
     "execution_count": 99,
     "metadata": {},
     "output_type": "execute_result"
    }
   ],
   "source": [
    "codes = {}\n",
    "\n",
    "a_great_sentence = \"The bird is the word\"\n",
    "h = huffman_encoding(a_great_sentence)\n",
    "h"
   ]
  },
  {
   "cell_type": "code",
   "execution_count": null,
   "metadata": {},
   "outputs": [],
   "source": [
    "\n",
    "\n",
    "print (\"The size of the data is: {}\\n\".format(sys.getsizeof(a_great_sentence)))\n",
    "print (\"The content of the data is: {}\\n\".format(a_great_sentence))\n",
    "\n",
    "encoded_data, tree = huffman_encoding(a_great_sentence)\n",
    "\n",
    "print (\"The size of the encoded data is: {}\\n\".format(sys.getsizeof(int(encoded_data, base=2))))\n",
    "print (\"The content of the encoded data is: {}\\n\".format(encoded_data))\n",
    "\n",
    "decoded_data = huffman_decoding(encoded_data, tree)\n",
    "\n",
    "print (\"The size of the decoded data is: {}\\n\".format(sys.getsizeof(decoded_data)))\n",
    "print (\"The content of the encoded data is: {}\\n\".format(decoded_data))"
   ]
  },
  {
   "cell_type": "markdown",
   "metadata": {},
   "source": [
    "# Active Directory"
   ]
  },
  {
   "cell_type": "code",
   "execution_count": 3,
   "metadata": {},
   "outputs": [],
   "source": [
    "class Group(object):\n",
    "    def __init__(self, _name):\n",
    "        self.name = _name\n",
    "        self.groups = []\n",
    "        self.users = []\n",
    "\n",
    "    def add_group(self, group):\n",
    "        self.groups.append(group)\n",
    "\n",
    "    def add_user(self, user):\n",
    "        self.users.append(user)\n",
    "\n",
    "    def get_groups(self):\n",
    "        return self.groups\n",
    "\n",
    "    def get_users(self):\n",
    "        return self.users\n",
    "\n",
    "    def get_name(self):\n",
    "        return self.name"
   ]
  },
  {
   "cell_type": "code",
   "execution_count": 4,
   "metadata": {},
   "outputs": [],
   "source": [
    "def is_user_in_group(user, group):\n",
    "    \"\"\"\n",
    "    Return True if user is in the group, False otherwise.\n",
    "\n",
    "    Args:\n",
    "      user(str): user name/id\n",
    "      group(class:Group): group to check user membership against\n",
    "    \"\"\"\n",
    "    if user in group.get_users():\n",
    "        return True\n",
    "    else:\n",
    "        for g in group.get_groups():\n",
    "            if is_user_in_group(user, g):\n",
    "                return True\n",
    "    \n",
    "    return False"
   ]
  },
  {
   "cell_type": "code",
   "execution_count": 6,
   "metadata": {},
   "outputs": [],
   "source": [
    "parent = Group(\"parent\")\n",
    "child = Group(\"child\")\n",
    "sub_child = Group(\"subchild\")\n",
    "\n",
    "sub_child_user = \"sub_child_user\"\n",
    "sub_child.add_user(sub_child_user)\n",
    "\n",
    "child.add_group(sub_child)\n",
    "parent.add_group(child)"
   ]
  },
  {
   "cell_type": "code",
   "execution_count": 10,
   "metadata": {},
   "outputs": [
    {
     "data": {
      "text/plain": [
       "True"
      ]
     },
     "execution_count": 10,
     "metadata": {},
     "output_type": "execute_result"
    }
   ],
   "source": [
    "is_user_in_group(\"sub_child_user\", child)"
   ]
  },
  {
   "cell_type": "markdown",
   "metadata": {},
   "source": [
    "# BlockChain"
   ]
  },
  {
   "cell_type": "code",
   "execution_count": 15,
   "metadata": {},
   "outputs": [],
   "source": [
    "import hashlib\n",
    "from datetime import datetime\n",
    "\n",
    "class Block:\n",
    "    def __init__(self, timestamp, data, previous_hash):\n",
    "        self.timestamp = timestamp\n",
    "        self.data = data\n",
    "        self.previous_hash = previous_hash\n",
    "        self.hash = self.calc_hash(data)\n",
    "        self.previous = None\n",
    "        self.next = None\n",
    "\n",
    "    def calc_hash(self, data):\n",
    "        sha = hashlib.sha256()\n",
    "        hash_str = data.encode('utf-8')\n",
    "        sha.update(hash_str)\n",
    "        return sha.hexdigest()"
   ]
  },
  {
   "cell_type": "code",
   "execution_count": 23,
   "metadata": {},
   "outputs": [],
   "source": [
    "class Blockchain:\n",
    "    def __init__(self):\n",
    "        self.head = None\n",
    "        self.tail = None\n",
    "        \n",
    "    def append(self, data):\n",
    "        # TODO: Implement this method to append to the tail of the list\n",
    "        if not self.head:\n",
    "            self.head = Block(datetime.now().strftime(\"%d-%b-%Y (%H:%M:%S.%f)\"),\n",
    "                                data, 0)\n",
    "            self.tail = self.head\n",
    "            return\n",
    "    \n",
    "        new_node = Block(datetime.now().strftime(\"%d-%b-%Y (%H:%M:%S.%f)\"),\n",
    "                                data, self.tail.hash)\n",
    "        new_node.previous = self.tail\n",
    "        self.tail = new_node\n",
    "        \n",
    "\n",
    "    \n",
    "    def to_list(self):\n",
    "        \n",
    "        # TODO: Write function to turn Linked List into Python List\n",
    "        lst = []\n",
    "        ptr = self.head\n",
    "        while ptr:\n",
    "            lst.append(ptr.data)\n",
    "            ptr = ptr.next\n",
    "        \n",
    "        return lst"
   ]
  },
  {
   "cell_type": "code",
   "execution_count": 24,
   "metadata": {},
   "outputs": [],
   "source": [
    "bc = Blockchain()\n",
    "bc.append(\"INFO 1\")\n",
    "bc.append(\"INFO 2\")\n",
    "bc.append(\"INFO 3\")"
   ]
  },
  {
   "cell_type": "code",
   "execution_count": 25,
   "metadata": {},
   "outputs": [
    {
     "data": {
      "text/plain": [
       "['INFO 1']"
      ]
     },
     "execution_count": 25,
     "metadata": {},
     "output_type": "execute_result"
    }
   ],
   "source": [
    "bc.to_list()"
   ]
  },
  {
   "cell_type": "markdown",
   "metadata": {},
   "source": [
    "# Union intersection"
   ]
  },
  {
   "cell_type": "code",
   "execution_count": 41,
   "metadata": {},
   "outputs": [],
   "source": [
    "class Node:\n",
    "    def __init__(self, value):\n",
    "        self.value = value\n",
    "        self.next = None\n",
    "\n",
    "    def __repr__(self):\n",
    "        return str(self.value)\n",
    "\n",
    "\n",
    "class LinkedList:\n",
    "    def __init__(self):\n",
    "        self.head = None\n",
    "\n",
    "    def __str__(self):\n",
    "        cur_head = self.head\n",
    "        out_string = \"\"\n",
    "        while cur_head:\n",
    "            out_string += str(cur_head.value) + \" -> \"\n",
    "            cur_head = cur_head.next\n",
    "        return out_string\n",
    "\n",
    "\n",
    "    def append(self, value):\n",
    "\n",
    "        if self.head is None:\n",
    "            self.head = Node(value)\n",
    "            return\n",
    "\n",
    "        node = self.head\n",
    "        while node.next:\n",
    "            node = node.next\n",
    "\n",
    "        node.next = Node(value)\n",
    "\n",
    "    def size(self):\n",
    "        size = 0\n",
    "        node = self.head\n",
    "        while node:\n",
    "            size += 1\n",
    "            node = node.next\n",
    "\n",
    "        return size\n",
    "\n",
    "def union(llist_1, llist_2):\n",
    "    # Your Solution Here\n",
    "    set_ = set()\n",
    "    new_ll = LinkedList()\n",
    "    ptr = llist_1.head\n",
    "    \n",
    "    while ptr:\n",
    "        if ptr.value not in set_:\n",
    "            new_ll.append(ptr.value)\n",
    "        set_.add(ptr.value)\n",
    "        ptr = ptr.next\n",
    "    ptr = llist_2.head\n",
    "    while ptr:\n",
    "        if ptr.value not in set_:\n",
    "            new_ll.append(ptr.value)\n",
    "        set_.add(ptr.value)\n",
    "        ptr = ptr.next\n",
    "    return new_ll\n",
    "        \n",
    "    \n",
    "\n",
    "def intersection(llist_1, llist_2):\n",
    "    # Your Solution Here\n",
    "    set_ = set()\n",
    "    new_ll = LinkedList()\n",
    "    ptr = llist_1.head\n",
    "    \n",
    "    while ptr:\n",
    "        set_.add(ptr.value)\n",
    "        ptr = ptr.next\n",
    "    ptr = llist_2.head\n",
    "    while ptr:\n",
    "        if ptr.value in set_:\n",
    "            new_ll.append(ptr.value)\n",
    "        ptr = ptr.next\n",
    "    return new_ll\n",
    "\n"
   ]
  },
  {
   "cell_type": "code",
   "execution_count": 42,
   "metadata": {},
   "outputs": [],
   "source": [
    "\n",
    "# Test case 1\n",
    "\n",
    "linked_list_1 = LinkedList()\n",
    "linked_list_2 = LinkedList()\n",
    "\n",
    "element_1 = [3,2,4,35,6,65,6,4,3,21]\n",
    "element_2 = [6,32,4,9,6,1,11,21,1]\n",
    "\n",
    "for i in element_1:\n",
    "    linked_list_1.append(i)\n",
    "\n",
    "for i in element_2:\n",
    "    linked_list_2.append(i)\n",
    "\n",
    "\n",
    "\n",
    "\n",
    "# Test case 2\n",
    "\n",
    "linked_list_3 = LinkedList()\n",
    "linked_list_4 = LinkedList()\n",
    "\n",
    "element_1 = [3,2,4,35,6,65,6,4,3,23]\n",
    "element_2 = [1,7,8,9,11,21,1]\n",
    "\n",
    "for i in element_1:\n",
    "    linked_list_3.append(i)\n",
    "\n",
    "for i in element_2:\n",
    "    linked_list_4.append(i)\n",
    "\n",
    "\n"
   ]
  },
  {
   "cell_type": "code",
   "execution_count": 43,
   "metadata": {},
   "outputs": [
    {
     "name": "stdout",
     "output_type": "stream",
     "text": [
      "3 -> 2 -> 4 -> 35 -> 6 -> 65 -> 21 -> 32 -> 9 -> 1 -> 11 -> \n",
      "3 -> 2 -> 4 -> 35 -> 6 -> 65 -> 23 -> 1 -> 7 -> 8 -> 9 -> 11 -> 21 -> \n"
     ]
    }
   ],
   "source": [
    "print (union(linked_list_1,linked_list_2))\n",
    "print (union(linked_list_3,linked_list_4))"
   ]
  },
  {
   "cell_type": "code",
   "execution_count": 44,
   "metadata": {},
   "outputs": [
    {
     "name": "stdout",
     "output_type": "stream",
     "text": [
      "6 -> 4 -> 6 -> 21 -> \n",
      "\n"
     ]
    }
   ],
   "source": [
    "print (intersection(linked_list_1,linked_list_2))\n",
    "print (intersection(linked_list_3,linked_list_4))"
   ]
  },
  {
   "cell_type": "code",
   "execution_count": null,
   "metadata": {},
   "outputs": [],
   "source": []
  }
 ],
 "metadata": {
  "kernelspec": {
   "display_name": "Python 3",
   "language": "python",
   "name": "python3"
  },
  "language_info": {
   "codemirror_mode": {
    "name": "ipython",
    "version": 3
   },
   "file_extension": ".py",
   "mimetype": "text/x-python",
   "name": "python",
   "nbconvert_exporter": "python",
   "pygments_lexer": "ipython3",
   "version": "3.7.6"
  }
 },
 "nbformat": 4,
 "nbformat_minor": 4
}
