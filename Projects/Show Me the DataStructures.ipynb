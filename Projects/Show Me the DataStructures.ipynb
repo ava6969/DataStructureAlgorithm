{
 "cells": [
  {
   "cell_type": "markdown",
   "metadata": {},
   "source": [
    "# LRU Cache Problem"
   ]
  },
  {
   "cell_type": "code",
   "execution_count": null,
   "metadata": {},
   "outputs": [],
   "source": [
    "class LRUCache:\n",
    "    def __init__(self, size_limit)\n",
    "        self.limit = size_limit\n",
    "        self.capacity = 0\n",
    "        self.storage = {}\n",
    "    \n",
    "    def put(self, key, value):\n",
    "        if self.capacity == self.limit:\n",
    "            \n",
    "        else:\n",
    "            self.storage[key] = (value, 0)\n",
    "            self.capacity += 1\n",
    "    \n",
    "    def get(self, key):\n",
    "        \n",
    "        if key in self.storage:\n",
    "            value, count = self.storage[key]\n",
    "            self.storage[key] = (value, count+1)\n",
    "            return value\n",
    "        else:\n",
    "            return -1\n",
    "            \n",
    "        "
   ]
  },
  {
   "cell_type": "code",
   "execution_count": null,
   "metadata": {},
   "outputs": [],
   "source": []
  },
  {
   "cell_type": "markdown",
   "metadata": {},
   "source": [
    "# File Recursion"
   ]
  },
  {
   "cell_type": "code",
   "execution_count": 23,
   "metadata": {},
   "outputs": [],
   "source": [
    "import os"
   ]
  },
  {
   "cell_type": "code",
   "execution_count": 24,
   "metadata": {},
   "outputs": [
    {
     "data": {
      "text/plain": [
       "True"
      ]
     },
     "execution_count": 24,
     "metadata": {},
     "output_type": "execute_result"
    }
   ],
   "source": [
    "os.path.isfile(os.path.join(\"testdir\",\"t1.c\"))"
   ]
  },
  {
   "cell_type": "code",
   "execution_count": 25,
   "metadata": {},
   "outputs": [],
   "source": [
    "def find_files(suffix, path):\n",
    "    \"\"\"\n",
    "    Find all files beneath path with file name suffix.\n",
    "\n",
    "    Note that a path may contain further subdirectories\n",
    "    and those subdirectories may also contain further subdirectories.\n",
    "\n",
    "    There are no limit to the depth of the subdirectories can be.\n",
    "\n",
    "    Args:\n",
    "      suffix(str): suffix if the file name to be found\n",
    "      path(str): path of the file system\n",
    "\n",
    "    Returns:\n",
    "       a list of paths\n",
    "    \"\"\"\n",
    "    \n",
    "    def recursive_search(suffix, path):\n",
    "        files = []\n",
    "\n",
    "        if os.path.isfile(path):\n",
    "            if path.endswith(suffix):\n",
    "                return path\n",
    "            else:\n",
    "                return\n",
    "        else:\n",
    "            for dir_name in os.listdir(path):\n",
    "                if os.path.isfile(dir_name):\n",
    "                    if dir_name.endswith(suffix):\n",
    "                        files.append(dir_name)\n",
    "                else:\n",
    "                    res = recursive_search(suffix, os.path.join(path, dir_name))\n",
    "                    if res:\n",
    "                        files.append(res)\n",
    "            return files\n",
    "    return recursive_search(suffix, path)\n",
    "    "
   ]
  },
  {
   "cell_type": "code",
   "execution_count": 26,
   "metadata": {},
   "outputs": [
    {
     "data": {
      "text/plain": [
       "[['testdir\\\\subdir1\\\\a.c'],\n",
       " [['testdir\\\\subdir3\\\\subsubdir1\\\\b.c']],\n",
       " ['testdir\\\\subdir5\\\\a.c'],\n",
       " 'testdir\\\\t1.c']"
      ]
     },
     "execution_count": 26,
     "metadata": {},
     "output_type": "execute_result"
    }
   ],
   "source": [
    "find_files(\".c\",\"testdir\")"
   ]
  },
  {
   "cell_type": "code",
   "execution_count": null,
   "metadata": {},
   "outputs": [],
   "source": []
  }
 ],
 "metadata": {
  "kernelspec": {
   "display_name": "Python 3",
   "language": "python",
   "name": "python3"
  },
  "language_info": {
   "codemirror_mode": {
    "name": "ipython",
    "version": 3
   },
   "file_extension": ".py",
   "mimetype": "text/x-python",
   "name": "python",
   "nbconvert_exporter": "python",
   "pygments_lexer": "ipython3",
   "version": "3.7.6"
  }
 },
 "nbformat": 4,
 "nbformat_minor": 4
}
