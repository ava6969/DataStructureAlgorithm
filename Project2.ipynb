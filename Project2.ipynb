{
 "cells": [
  {
   "cell_type": "markdown",
   "metadata": {},
   "source": [
    "# Square root"
   ]
  },
  {
   "cell_type": "code",
   "execution_count": 6,
   "metadata": {},
   "outputs": [
    {
     "name": "stdout",
     "output_type": "stream",
     "text": [
      "Pass\n",
      "Pass\n",
      "Pass\n",
      "Pass\n",
      "Pass\n"
     ]
    }
   ],
   "source": [
    "def sqrt(n, eps=0.000001):\n",
    "    \"\"\"\n",
    "    Calculate the floored square root of a number\n",
    "\n",
    "    Args:\n",
    "       number(int): Number to find the floored squared root\n",
    "    Returns:\n",
    "       int: Floored Square Root\n",
    "    \"\"\"\n",
    "    # We are using n itself as \n",
    "    # initial approximation This \n",
    "    # can definitely be improved  \n",
    "    x = n \n",
    "    y = 1\n",
    "          \n",
    "    while(x - y > eps): \n",
    "        x = (x + y)//2\n",
    "        y = n / x \n",
    "      \n",
    "    return x\n",
    "\n",
    "print (\"Pass\" if  (3 == sqrt(9)) else \"Fail\")\n",
    "print (\"Pass\" if  (0 == sqrt(0)) else \"Fail\")\n",
    "print (\"Pass\" if  (4 == sqrt(16)) else \"Fail\")\n",
    "print (\"Pass\" if  (1 == sqrt(1)) else \"Fail\")\n",
    "print (\"Pass\" if  (5 == sqrt(27)) else \"Fail\")"
   ]
  },
  {
   "cell_type": "markdown",
   "metadata": {},
   "source": [
    "# Rotated sorted Array"
   ]
  },
  {
   "cell_type": "code",
   "execution_count": 8,
   "metadata": {},
   "outputs": [
    {
     "name": "stdout",
     "output_type": "stream",
     "text": [
      "Pass\n",
      "Pass\n",
      "Pass\n",
      "Pass\n",
      "Pass\n"
     ]
    }
   ],
   "source": [
    "def binarySearch(arr, low, high, key): \n",
    "  \n",
    "    if high < low: \n",
    "        return -1\n",
    "          \n",
    "    # low + (high - low)/2;     \n",
    "    mid = int((low + high)/2) \n",
    "      \n",
    "    if key == arr[mid]: \n",
    "        return mid \n",
    "    if key > arr[mid]: \n",
    "        return binarySearch(arr, (mid + 1), high, \n",
    "                                            key); \n",
    "    return binarySearch(arr, low, (mid -1), key);\n",
    "\n",
    "def findPivot(arr, low, high): \n",
    "      \n",
    "    # base cases \n",
    "    if high < low: \n",
    "        return -1\n",
    "    if high == low: \n",
    "        return low \n",
    "      \n",
    "    # low + (high - low)/2; \n",
    "    mid = (low + high)//2 \n",
    "      \n",
    "    if mid < high and arr[mid] > arr[mid + 1]: \n",
    "        return mid \n",
    "    if mid > low and arr[mid] < arr[mid - 1]: \n",
    "        return (mid-1) \n",
    "    if arr[low] >= arr[mid]: \n",
    "        return findPivot(arr, low, mid-1) \n",
    "    return findPivot(arr, mid + 1, high)\n",
    "\n",
    "        \n",
    "def rotated_array_search(input_list, number):\n",
    "    \"\"\"\n",
    "    Find the index by searching in a rotated sorted array\n",
    "\n",
    "    Args:\n",
    "       input_list(array), number(int): Input array to search and the target\n",
    "    Returns:\n",
    "       int: Index or -1\n",
    "    \"\"\"\n",
    "    n = len(input_list)\n",
    "    pivot = findPivot(input_list, 0, n-1); \n",
    "  \n",
    "    # If we didn't find a pivot, then array is not rotated at all \n",
    "    if pivot == -1: \n",
    "        return binarySearch(input_list, 0, n-1, number); \n",
    "  \n",
    "    # If we found a pivot, then first \n",
    "    # compare with pivot and then \n",
    "    # search in two subarrays around pivot \n",
    "    if input_list[pivot] == number: \n",
    "        return pivot \n",
    "    if input_list[0] <= number: \n",
    "        return binarySearch(input_list, 0, pivot-1, number); \n",
    "    return binarySearch(input_list, pivot + 1, n-1, number); \n",
    "    \n",
    "\n",
    "def linear_search(input_list, number):\n",
    "    for index, element in enumerate(input_list):\n",
    "        if element == number:\n",
    "            return index\n",
    "    return -1\n",
    "\n",
    "def test_function(test_case):\n",
    "    input_list = test_case[0]\n",
    "    number = test_case[1]\n",
    "    if linear_search(input_list, number) == rotated_array_search(input_list, number):\n",
    "        print(\"Pass\")\n",
    "    else:\n",
    "        print(\"Fail\")\n",
    "\n",
    "test_function([[6, 7, 8, 9, 10, 1, 2, 3, 4], 6])\n",
    "test_function([[6, 7, 8, 9, 10, 1, 2, 3, 4], 1])\n",
    "test_function([[6, 7, 8, 1, 2, 3, 4], 8])\n",
    "test_function([[6, 7, 8, 1, 2, 3, 4], 1])\n",
    "test_function([[6, 7, 8, 1, 2, 3, 4], 10])"
   ]
  },
  {
   "cell_type": "markdown",
   "metadata": {},
   "source": [
    "# Rearrange Array Elements"
   ]
  },
  {
   "cell_type": "code",
   "execution_count": 21,
   "metadata": {},
   "outputs": [
    {
     "name": "stdout",
     "output_type": "stream",
     "text": [
      "[531, 42]\n",
      "Pass\n"
     ]
    }
   ],
   "source": [
    "def rearrange_digits(input_list):\n",
    "    \"\"\"\n",
    "    Rearrange Array Elements so as to form two number such that their sum is maximum.\n",
    "\n",
    "    Args:\n",
    "       input_list(list): Input List\n",
    "    Returns:\n",
    "       (int),(int): Two maximum sums\n",
    "    \"\"\"\n",
    "    # sort the list in descending order\n",
    "    input_list.sort(reverse=True)\n",
    "\n",
    "    # fill x with digits at the odd indices of sorted list\n",
    "    x = 0\n",
    "    for i in range (0, len(input_list), 2):\n",
    "        x = x * 10 + input_list[i]\n",
    "\n",
    "    # fill y with digits at the even indices of sorted list\n",
    "    y = 0\n",
    "    for i in range (1, len(input_list), 2):\n",
    "        y = y * 10 + input_list[i]\n",
    "\n",
    "    return [x, y]\n",
    "\n",
    "\n",
    "def test_function(test_case):\n",
    "    output = rearrange_digits(test_case[0])\n",
    "    print(output)\n",
    "    solution = test_case[1]\n",
    "    if sum(output) == sum(solution):\n",
    "        print(\"Pass\")\n",
    "    else:\n",
    "        print(\"Fail\")\n",
    "\n",
    "test_function([[1, 2, 3, 4, 5], [542, 31]])"
   ]
  },
  {
   "cell_type": "code",
   "execution_count": 22,
   "metadata": {},
   "outputs": [
    {
     "name": "stdout",
     "output_type": "stream",
     "text": [
      "[964, 852]\n",
      "Pass\n"
     ]
    }
   ],
   "source": [
    "test_case = [[4, 6, 2, 5, 9, 8], [964, 852]]\n",
    "test_function(test_case)"
   ]
  },
  {
   "cell_type": "markdown",
   "metadata": {},
   "source": [
    "# Dutch National"
   ]
  },
  {
   "cell_type": "code",
   "execution_count": 3,
   "metadata": {},
   "outputs": [
    {
     "name": "stdout",
     "output_type": "stream",
     "text": [
      "[0, 0, 0, 1, 1, 1, 2, 2, 2, 2, 2]\n",
      "Pass\n",
      "[0, 0, 0, 0, 0, 0, 0, 0, 0, 0, 0, 1, 1, 1, 1, 1, 1, 2, 2, 2, 2, 2, 2, 2, 2, 2]\n",
      "Pass\n",
      "[0, 0, 0, 0, 0, 0, 1, 1, 1, 1, 1, 1, 2, 2, 2, 2, 2, 2, 2]\n",
      "Pass\n"
     ]
    }
   ],
   "source": [
    "def sort_012(input_list):\n",
    "    \"\"\"\n",
    "    Given an input array consisting on only 0, 1, and 2, sort the array in a single traversal.\n",
    "\n",
    "    Args:\n",
    "       input_list(list): List to be sorted\n",
    "    \"\"\"\n",
    "    lo = 0\n",
    "    hi = len(input_list) - 1\n",
    "    mid = 0\n",
    "    while mid <= hi: \n",
    "        if input_list[mid] == 0: \n",
    "            input_list[lo], input_list[mid] = input_list[mid], input_list[lo] \n",
    "            lo = lo + 1\n",
    "            mid = mid + 1\n",
    "        elif input_list[mid] == 1: \n",
    "            mid = mid + 1\n",
    "        else: \n",
    "            input_list[mid], input_list[hi] = input_list[hi], input_list[mid]  \n",
    "            hi = hi - 1\n",
    "    return input_list \n",
    "\n",
    "def test_function(test_case):\n",
    "    sorted_array = sort_012(test_case)\n",
    "    print(sorted_array)\n",
    "    if sorted_array == sorted(test_case):\n",
    "        print(\"Pass\")\n",
    "    else:\n",
    "        print(\"Fail\")\n",
    "\n",
    "test_function([0, 0, 2, 2, 2, 1, 1, 1, 2, 0, 2])\n",
    "test_function([2, 1, 2, 0, 0, 2, 1, 0, 1, 0, 0, 2, 2, 2, 1, 2, 0, 0, 0, 2, 1, 0, 2, 0, 0, 1])\n",
    "test_function([0, 0, 0, 0, 0, 0, 1, 1, 1, 1, 1, 1, 2, 2, 2, 2, 2, 2, 2])"
   ]
  },
  {
   "cell_type": "markdown",
   "metadata": {},
   "source": [
    "# Max and Min in a Unsorted Array"
   ]
  },
  {
   "cell_type": "code",
   "execution_count": 5,
   "metadata": {},
   "outputs": [
    {
     "name": "stdout",
     "output_type": "stream",
     "text": [
      "Pass\n"
     ]
    }
   ],
   "source": [
    "\n",
    "def get_min_max(ints):\n",
    "    \"\"\"\n",
    "    Return a tuple(min, max) out of list of unsorted integers.\n",
    "\n",
    "    Args:\n",
    "       ints(list): list of integers containing one or more integers\n",
    "    \"\"\"\n",
    "    max_ = -float('inf')\n",
    "    min_ = float('inf')\n",
    "    \n",
    "    for num in ints:\n",
    "        if num > max_:\n",
    "            max_ = num\n",
    "        if num < min_:\n",
    "            min_ = num\n",
    "    return (min_, max_)\n",
    "\n",
    "## Example Test Case of Ten Integers\n",
    "import random\n",
    "\n",
    "l = [i for i in range(0, 10)]  # a list containing 0 - 9\n",
    "random.shuffle(l)\n",
    "\n",
    "print (\"Pass\" if ((0, 9) == get_min_max(l)) else \"Fail\")"
   ]
  },
  {
   "cell_type": "markdown",
   "metadata": {},
   "source": [
    "# Request Routing in a Web Server with a Trie"
   ]
  },
  {
   "cell_type": "code",
   "execution_count": 24,
   "metadata": {},
   "outputs": [],
   "source": [
    "# A RouteTrie will store our routes and their associated handlers\n",
    "class RouteTrie:\n",
    "    def __init__(self):\n",
    "        # Initialize the trie with an root node and a handler, this is the root path or home page node\n",
    "        self.root = RouteTrieNode()\n",
    "        self.handler = None\n",
    "\n",
    "    def insert(self, path_list, handler):\n",
    "        # Similar to our previous example you will want to recursively add nodes\n",
    "        # Make sure you assign the handler to only the leaf (deepest) node of this path\n",
    "        current_node = self.root\n",
    "        for part in path_list:\n",
    "            if part not in current_node.children:\n",
    "                current_node.insert(part)\n",
    "            else:\n",
    "                current_node = current_node.children[part]\n",
    "        current_node.handler = handler\n",
    "#         return current_node\n",
    "        \n",
    "\n",
    "    def find(self, path_list):\n",
    "        # Starting at the root, navigate the Trie to find a match for this path\n",
    "        # Return the handler for a match, or None for no match\n",
    "        current_node = self.root\n",
    "        for part in path_list:\n",
    "            if part not in current_node.handler:\n",
    "                return current_node.handler\n",
    "            else:\n",
    "                current_node = current_node.children[part]\n",
    "        return current_node.handler\n",
    "\n",
    "# A RouteTrieNode will be similar to our autocomplete TrieNode... with one additional element, a handler.\n",
    "class RouteTrieNode:\n",
    "    def __init__(self):\n",
    "        # Initialize the node with children as before, plus a handler\n",
    "        self.handler = None\n",
    "        self.children = {}\n",
    "\n",
    "    def insert(self, path_part):\n",
    "        # Insert the node as before\n",
    "        self.children[path_part] = RouteTrieNode()"
   ]
  },
  {
   "cell_type": "code",
   "execution_count": 25,
   "metadata": {},
   "outputs": [],
   "source": [
    "# The Router class will wrap the Trie and handle \n",
    "class Router:\n",
    "    def __init__(self, root_handler, not_found_handler):\n",
    "        # Create a new RouteTrie for holding our routes\n",
    "        # You could also add a handler for 404 page not found responses as well!\n",
    "        self.routetrie = RouteTrie()\n",
    "        self.routetrie.root.handler = root_handler\n",
    "        self.not_found = not_found_handler\n",
    "\n",
    "    def add_handler(self, path, handler):\n",
    "        # Add a handler for a path\n",
    "        # You will need to split the path and pass the pass parts\n",
    "        # as a list to the RouteTrie\n",
    "        path_list = self.split_path(path)\n",
    "        self.routetrie.insert(path_list, handler)\n",
    "        \n",
    "\n",
    "    def lookup(self, path):\n",
    "        # lookup path (by parts) and return the associated handler\n",
    "        # you can return None if it's not found or\n",
    "        # return the \"not found\" handler if you added one\n",
    "        # bonus points if a path works with and without a trailing slash\n",
    "        # e.g. /about and /about/ both return the /about handler\n",
    "        path_list = self.split_path(path)\n",
    "        if not self.routetrie.find(path_list):\n",
    "            return self.not_found\n",
    "        else:\n",
    "            return self.routetrie.find(path_list)\n",
    "        \n",
    "\n",
    "\n",
    "    def split_path(self, path):\n",
    "        # you need to split the path into parts for \n",
    "        # both the add_handler and loopup functions,\n",
    "        # so it should be placed in a function here\n",
    "        return [ y for y in path.split(\"/\") if y]"
   ]
  },
  {
   "cell_type": "code",
   "execution_count": 26,
   "metadata": {},
   "outputs": [
    {
     "name": "stdout",
     "output_type": "stream",
     "text": [
      "about handler\n",
      "about handler\n",
      "about handler\n",
      "about handler\n",
      "about handler\n"
     ]
    }
   ],
   "source": [
    "# Here are some test cases and expected outputs you can use to test your implementation\n",
    "\n",
    "# create the router and add a route\n",
    "router = Router(\"root handler\", \"not found handler\") # remove the 'not found handler' if you did not implement this\n",
    "router.add_handler(\"/home/about\", \"about handler\")  # add a route\n",
    "\n",
    "# some lookups with the expected output\n",
    "print(router.lookup(\"/\")) # should print 'root handler'\n",
    "print(router.lookup(\"/home\")) # should print 'not found handler' or None if you did not implement one\n",
    "print(router.lookup(\"/home/about\")) # should print 'about handler'\n",
    "print(router.lookup(\"/home/about/\")) # should print 'about handler' or None if you did not handle trailing slashes\n",
    "print(router.lookup(\"/home/about/me\")) # should print 'not found handler' or None if you did not implement one"
   ]
  },
  {
   "cell_type": "code",
   "execution_count": null,
   "metadata": {},
   "outputs": [],
   "source": []
  }
 ],
 "metadata": {
  "kernelspec": {
   "display_name": "Python 3",
   "language": "python",
   "name": "python3"
  },
  "language_info": {
   "codemirror_mode": {
    "name": "ipython",
    "version": 3
   },
   "file_extension": ".py",
   "mimetype": "text/x-python",
   "name": "python",
   "nbconvert_exporter": "python",
   "pygments_lexer": "ipython3",
   "version": "3.7.6"
  }
 },
 "nbformat": 4,
 "nbformat_minor": 4
}
